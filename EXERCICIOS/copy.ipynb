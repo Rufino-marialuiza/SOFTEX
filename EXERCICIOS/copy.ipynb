{
 "cells": [
  {
   "cell_type": "code",
   "execution_count": null,
   "id": "47b67433",
   "metadata": {},
   "outputs": [
    {
     "name": "stdout",
     "output_type": "stream",
     "text": [
      "1 2 3 4 5 "
     ]
    }
   ],
   "source": [
    "#questao 1\n",
    "lista=[1,2,3,4,5]\n",
    "\n",
    "for i in range(len(lista)):\n",
    "    print(lista[i], end= ' ')"
   ]
  },
  {
   "cell_type": "code",
   "execution_count": 4,
   "id": "1222e859",
   "metadata": {},
   "outputs": [
    {
     "name": "stdout",
     "output_type": "stream",
     "text": [
      "positivo\n"
     ]
    }
   ],
   "source": [
    "#questao 2\n",
    "\n",
    "n=int(input(\"Numero:\"))\n",
    "\n",
    "if n==0: print(\"é nulo\")\n",
    "\n",
    "elif n>0: print(\"positivo\")\n",
    "\n",
    "else: print(\"Negativo\")"
   ]
  },
  {
   "cell_type": "code",
   "execution_count": null,
   "id": "6aa81fc6",
   "metadata": {},
   "outputs": [
    {
     "name": "stdout",
     "output_type": "stream",
     "text": [
      "1 2 3 4 5 6 7 8 9 10 "
     ]
    }
   ],
   "source": [
    "#questao 3\n",
    "\n",
    "for i in range(10):\n",
    "    print(i+1, end= ' ')"
   ]
  },
  {
   "cell_type": "code",
   "execution_count": 6,
   "id": "f64685aa",
   "metadata": {},
   "outputs": [
    {
     "name": "stdout",
     "output_type": "stream",
     "text": [
      "=== Nome e idade ===\n",
      "Maria: 25 anos\n",
      "Fernanda: 30 anos\n",
      "Beatriz: 35 anos\n"
     ]
    }
   ],
   "source": [
    "#questao 4\n",
    "cadastro = {\n",
    "    \"Maria\": 25,\n",
    "    \"Fernanda\": 30,\n",
    "    \"Beatriz\": 35,\n",
    "}\n",
    "\n",
    "print(\"=== Nome e idade ===\")\n",
    "for nome, idade in cadastro.items():\n",
    "    print(f\"{nome}: {idade} anos\")"
   ]
  },
  {
   "cell_type": "code",
   "execution_count": 7,
   "id": "1d293ca6",
   "metadata": {},
   "outputs": [
    {
     "name": "stdout",
     "output_type": "stream",
     "text": [
      "A soma de A + B é 9\n"
     ]
    }
   ],
   "source": [
    "#questao 5\n",
    "a = int(input(\"Digite o valor de A: \"))\n",
    "b = int(input(\"Digite o valor de B: \"))\n",
    "\n",
    "def soma(a,b):\n",
    "  return a+b\n",
    "\n",
    "resultado = soma(a,b)\n",
    "\n",
    "print(f\"A soma de A + B é {resultado}\")"
   ]
  },
  {
   "cell_type": "code",
   "execution_count": 8,
   "id": "9abd8437",
   "metadata": {},
   "outputs": [
    {
     "name": "stdout",
     "output_type": "stream",
     "text": [
      "A palavra abracada tem 8 caracteres.\n"
     ]
    }
   ],
   "source": [
    "#questao 6\n",
    "palavra = str(input(\"Digite  uma palavra e descubra quantas letras ela tem! \"))\n",
    "tam = len(palavra)\n",
    "\n",
    "print(f\"A palavra {palavra} tem {tam} caracteres.\")"
   ]
  },
  {
   "cell_type": "code",
   "execution_count": 9,
   "id": "9595a007",
   "metadata": {},
   "outputs": [
    {
     "name": "stdout",
     "output_type": "stream",
     "text": [
      "4 é par\n"
     ]
    }
   ],
   "source": [
    "#questao 7\n",
    "num = int(input(\"Digite um número: \"))\n",
    "\n",
    "if num % 2 == 0:\n",
    "    print(f'{num} é par')\n",
    "else:\n",
    "    print(f'{num} é impar')\n"
   ]
  },
  {
   "cell_type": "code",
   "execution_count": 10,
   "id": "1539aa91",
   "metadata": {},
   "outputs": [
    {
     "name": "stdout",
     "output_type": "stream",
     "text": [
      "1\n",
      "2\n",
      "3\n",
      "4\n",
      "5\n"
     ]
    }
   ],
   "source": [
    "#questao 8\n",
    "i = 1\n",
    "while i <= 5:\n",
    "    print(i)\n",
    "    i += 1"
   ]
  },
  {
   "cell_type": "code",
   "execution_count": 11,
   "id": "6669ccf1",
   "metadata": {},
   "outputs": [
    {
     "name": "stdout",
     "output_type": "stream",
     "text": [
      "Arroz\n",
      "Feijão\n",
      "Macarrão\n",
      "Café\n",
      "Leite\n"
     ]
    }
   ],
   "source": [
    "#questao 9\n",
    "produtos = {\"Arroz\": 5.0, \"Feijão\": 5.5, \"Macarrão\": 3.0, \"Café\": 13.0, \"Leite\":5.0}\n",
    "for produto in produtos.keys():\n",
    "    print(produto)"
   ]
  }
 ],
 "metadata": {
  "kernelspec": {
   "display_name": "Python 3",
   "language": "python",
   "name": "python3"
  },
  "language_info": {
   "codemirror_mode": {
    "name": "ipython",
    "version": 3
   },
   "file_extension": ".py",
   "mimetype": "text/x-python",
   "name": "python",
   "nbconvert_exporter": "python",
   "pygments_lexer": "ipython3",
   "version": "3.13.2"
  }
 },
 "nbformat": 4,
 "nbformat_minor": 5
}
