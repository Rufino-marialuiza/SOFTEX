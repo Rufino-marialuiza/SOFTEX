{
 "cells": [
  {
   "cell_type": "code",
   "execution_count": null,
   "id": "88640be4",
   "metadata": {},
   "outputs": [
    {
     "name": "stdout",
     "output_type": "stream",
     "text": [
      "O Celta está a 10 km/h\n",
      "O Celta reduziu para 0 km/h\n",
      "O Onix está a 10 km/h\n",
      "O Onix reduziu para 0 km/h\n",
      "Setando para Esquerda!!!!\n"
     ]
    }
   ],
   "source": [
    "class Carro:\n",
    "    def __init__(self, modelo, cor, ano):  # método construtor\n",
    "        self.modelo = modelo          # atributo\n",
    "        self.cor = cor                # atributo\n",
    "        self.velocidade = 0           # atributo inicial\n",
    "        self.ano= ano                 # atributo\n",
    "\n",
    "    def acelerar(self):\n",
    "        self.velocidade +=10\n",
    "        print(f\"O {self.modelo} está a {self.velocidade} km/h\")\n",
    "\n",
    "    def frear(self):\n",
    "        self.velocidade -=10\n",
    "        if self.velocidade < 0:\n",
    "          self.velocidade = 0\n",
    "        print(f\"O {self.modelo} reduziu para {self.velocidade} km/h\")\n",
    "\n",
    "    def buzinar(self):\n",
    "        print(f'{self.modelo} está buzinhando FOM FOMMMMMM')\n",
    "\n",
    "    def seta(self, direcao):\n",
    "      print(f\"{self.modelo} está setando para {direcao}!!!!\")\n",
    "\n",
    "modelo=input('Modelo:')\n",
    "cor=input('Cor:')\n",
    "ano=int(input('Ano:'))\n",
    "seta=input(\"O carro ta setando para onde?\")\n",
    "\n",
    "carroTop=Carro(modelo,cor, ano)\n",
    "\n",
    "carroTop.acelerar()\n",
    "carroTop.buzinar()\n",
    "carroTop.frear()\n",
    "carroTop.seta(seta)"
   ]
  }
 ],
 "metadata": {
  "kernelspec": {
   "display_name": "Python 3",
   "language": "python",
   "name": "python3"
  },
  "language_info": {
   "codemirror_mode": {
    "name": "ipython",
    "version": 3
   },
   "file_extension": ".py",
   "mimetype": "text/x-python",
   "name": "python",
   "nbconvert_exporter": "python",
   "pygments_lexer": "ipython3",
   "version": "3.13.2"
  }
 },
 "nbformat": 4,
 "nbformat_minor": 5
}
