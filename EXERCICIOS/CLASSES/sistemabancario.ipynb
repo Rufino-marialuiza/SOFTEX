{
 "cells": [
  {
   "cell_type": "code",
   "execution_count": null,
   "id": "5cce909e",
   "metadata": {},
   "outputs": [],
   "source": [
    "class SistemaBancario:\n",
    "\n",
    "    class contaBancaria:\n",
    "\n",
    "        def __init__(self,numConta,agencia,saldo):\n",
    "            self.numConta=numConta\n",
    "            self.agencia=agencia\n",
    "            self.saldo=saldo\n",
    "\n",
    "        def mostrarSaldo(self):\n",
    "            print(f'O saldo é:{self.saldo}')\n",
    "\n",
    "    class cliente:\n",
    "\n",
    "        def __init__(self,nome,cpf,telefone,endereco):\n",
    "            self.nome=nome\n",
    "            self.cpf=cpf\n",
    "            self.telefone=telefone\n",
    "            self.endereco=endereco\n",
    "\n",
    "        def cadastrar(self):\n",
    "            self.nome=input('Nome completo:')\n",
    "            self.cpf=int(input(\"CPF(sem '.' e '-'):\"))\n",
    "            self.endereco=input(\"Endereço(rua, numero, bairro, cidade):\")\n",
    "            print(\"Cdastrado com sucesso!\")\n",
    "\n",
    "        def atualizarDados(self):\n",
    "            #.......\n",
    "\n",
    "\n",
    "\n"
   ]
  }
 ],
 "metadata": {
  "language_info": {
   "name": "python"
  }
 },
 "nbformat": 4,
 "nbformat_minor": 5
}
