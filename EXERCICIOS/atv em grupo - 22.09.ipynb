{
 "cells": [
  {
   "cell_type": "code",
   "execution_count": null,
   "id": "47b67433",
   "metadata": {},
   "outputs": [
    {
     "name": "stdout",
     "output_type": "stream",
     "text": [
      "1 2 3 4 5 "
     ]
    }
   ],
   "source": [
    "#questao 1\n",
    "lista=[1,2,3,4,5]\n",
    "\n",
    "for i in range(len(lista)):\n",
    "    print(lista[i], end= ' ')"
   ]
  },
  {
   "cell_type": "code",
   "execution_count": 4,
   "id": "1222e859",
   "metadata": {},
   "outputs": [
    {
     "name": "stdout",
     "output_type": "stream",
     "text": [
      "positivo\n"
     ]
    }
   ],
   "source": [
    "#questao 2\n",
    "\n",
    "n=int(input(\"Numero:\"))\n",
    "\n",
    "if n==0: print(\"é nulo\")\n",
    "\n",
    "elif n>0: print(\"positivo\")\n",
    "\n",
    "else: print(\"Negativo\")"
   ]
  },
  {
   "cell_type": "code",
   "execution_count": null,
   "id": "6aa81fc6",
   "metadata": {},
   "outputs": [
    {
     "name": "stdout",
     "output_type": "stream",
     "text": [
      "1 2 3 4 5 6 7 8 9 10 "
     ]
    }
   ],
   "source": [
    "#questao 3\n",
    "\n",
    "for i in range(10):\n",
    "    print(i+1, end= ' ')"
   ]
  }
 ],
 "metadata": {
  "kernelspec": {
   "display_name": "Python 3",
   "language": "python",
   "name": "python3"
  },
  "language_info": {
   "codemirror_mode": {
    "name": "ipython",
    "version": 3
   },
   "file_extension": ".py",
   "mimetype": "text/x-python",
   "name": "python",
   "nbconvert_exporter": "python",
   "pygments_lexer": "ipython3",
   "version": "3.13.2"
  }
 },
 "nbformat": 4,
 "nbformat_minor": 5
}
