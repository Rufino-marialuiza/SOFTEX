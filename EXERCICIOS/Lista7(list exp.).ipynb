{
 "cells": [
  {
   "cell_type": "code",
   "execution_count": null,
   "id": "a75fd4ad",
   "metadata": {},
   "outputs": [],
   "source": [
    "#questao1\n",
    "quadrados = [n **2 for n in range(1,21)]\n",
    "print(quadrados)"
   ]
  },
  {
   "cell_type": "code",
   "execution_count": null,
   "id": "719f2865",
   "metadata": {},
   "outputs": [],
   "source": [
    "#questao2\n",
    "pares=[n for n in range(1,51) if n%2==0]\n",
    "print(pares)"
   ]
  },
  {
   "cell_type": "code",
   "execution_count": null,
   "id": "9a52c0f4",
   "metadata": {},
   "outputs": [],
   "source": [
    "#questao3\n",
    "vogais=[letra for letra in 'comprehension' if letra in 'aeiou']\n",
    "print(vogais)"
   ]
  },
  {
   "cell_type": "code",
   "execution_count": null,
   "id": "ec4618b9",
   "metadata": {},
   "outputs": [],
   "source": [
    "#questao4\n",
    "mult=[n for n in range(1,31) if n%3==0]\n",
    "print(mult)"
   ]
  },
  {
   "cell_type": "code",
   "execution_count": null,
   "id": "16983989",
   "metadata": {},
   "outputs": [],
   "source": [
    "#questao5\n",
    "pares = [(n, n**2) for n in range(1,11)]\n",
    "print(pares)"
   ]
  }
 ],
 "metadata": {
  "kernelspec": {
   "display_name": ".venv (3.13.2)",
   "language": "python",
   "name": "python3"
  },
  "language_info": {
   "codemirror_mode": {
    "name": "ipython",
    "version": 3
   },
   "file_extension": ".py",
   "mimetype": "text/x-python",
   "name": "python",
   "nbconvert_exporter": "python",
   "pygments_lexer": "ipython3",
   "version": "3.13.2"
  }
 },
 "nbformat": 4,
 "nbformat_minor": 5
}
