{
 "cells": [
  {
   "cell_type": "code",
   "execution_count": 18,
   "id": "f198db00",
   "metadata": {},
   "outputs": [
    {
     "name": "stdout",
     "output_type": "stream",
     "text": [
      "57\n"
     ]
    }
   ],
   "source": [
    "import random\n",
    "\n",
    "print(random.randint(1,100))"
   ]
  },
  {
   "cell_type": "code",
   "execution_count": 53,
   "id": "1f3a6b6c",
   "metadata": {},
   "outputs": [
    {
     "name": "stdout",
     "output_type": "stream",
     "text": [
      "o ganhador foi ana Parabéns!!\n"
     ]
    }
   ],
   "source": [
    "import random\n",
    "\n",
    "jogadores=['ana', 'Carla', 'Vitor', 'Eufrasio', 'Arruda']\n",
    "\n",
    "print(f'o ganhador foi {random.choice(jogadores)} Parabéns!!')"
   ]
  },
  {
   "cell_type": "code",
   "execution_count": 110,
   "id": "e59ab25d",
   "metadata": {},
   "outputs": [
    {
     "name": "stdout",
     "output_type": "stream",
     "text": [
      "a data e horario atual é: 2025-09-13 09:34:35.657264\n"
     ]
    }
   ],
   "source": [
    "import datetime\n",
    "\n",
    "print(f'a data e horario atual é: {datetime.datetime.now()}')"
   ]
  },
  {
   "cell_type": "code",
   "execution_count": 117,
   "id": "122e67f4",
   "metadata": {},
   "outputs": [
    {
     "name": "stdout",
     "output_type": "stream",
     "text": [
      "1024.0\n"
     ]
    }
   ],
   "source": [
    "import math\n",
    "\n",
    "print(math.pow(2,10))"
   ]
  },
  {
   "cell_type": "code",
   "execution_count": 118,
   "id": "23576c6e",
   "metadata": {},
   "outputs": [
    {
     "name": "stdout",
     "output_type": "stream",
     "text": [
      "<Response [200]>\n"
     ]
    }
   ],
   "source": [
    "import requests\n",
    "\n",
    "print(requests.get('https://www.google.com'))"
   ]
  }
 ],
 "metadata": {
  "kernelspec": {
   "display_name": "Python 3",
   "language": "python",
   "name": "python3"
  },
  "language_info": {
   "codemirror_mode": {
    "name": "ipython",
    "version": 3
   },
   "file_extension": ".py",
   "mimetype": "text/x-python",
   "name": "python",
   "nbconvert_exporter": "python",
   "pygments_lexer": "ipython3",
   "version": "3.13.2"
  }
 },
 "nbformat": 4,
 "nbformat_minor": 5
}
