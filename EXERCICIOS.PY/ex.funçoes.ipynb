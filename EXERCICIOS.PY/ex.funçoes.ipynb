{
 "cells": [
  {
   "cell_type": "code",
   "execution_count": null,
   "id": "6d701024",
   "metadata": {},
   "outputs": [
    {
     "name": "stdout",
     "output_type": "stream",
     "text": [
      "Para o número 5 seu quadrado é 25\n"
     ]
    }
   ],
   "source": [
    "def quadrado(n):\n",
    "    return n**2\n",
    "\n",
    "n=int(input('Digite um número'))\n",
    "\n",
    "print(f'Para o número {n} seu quadrado é: {quadrado(n)}')"
   ]
  },
  {
   "cell_type": "code",
   "execution_count": null,
   "id": "8e208247",
   "metadata": {},
   "outputs": [
    {
     "name": "stdout",
     "output_type": "stream",
     "text": [
      "O maior é 3\n"
     ]
    }
   ],
   "source": [
    "def maior(n,n1):\n",
    "    if n>n1:\n",
    "        return n\n",
    "    else:\n",
    "        return n1\n",
    "    \n",
    "n=int(input('Digite um número:'))\n",
    "n1=int(input('Digite um outro número:'))\n",
    "\n",
    "print(f'O maior é {maior(n,n1)}')"
   ]
  },
  {
   "cell_type": "code",
   "execution_count": 9,
   "id": "ceff854b",
   "metadata": {},
   "outputs": [
    {
     "name": "stdout",
     "output_type": "stream",
     "text": [
      "A soma é 30\n"
     ]
    }
   ],
   "source": [
    "def soma(n):\n",
    "    soma=0\n",
    "\n",
    "    for i in n:\n",
    "        soma+=int(i)\n",
    "    return soma\n",
    "    \n",
    "n=input('lista:').split()\n",
    "\n",
    "print(f'A soma é {soma(n)}')"
   ]
  },
  {
   "cell_type": "code",
   "execution_count": null,
   "id": "70e5960a",
   "metadata": {},
   "outputs": [],
   "source": [
    "def tabuada(n):\n",
    "\n",
    "    for i in range(1,11):\n",
    "        print(f'{n} X {i} = {n*i}')\n",
    "\n",
    "n=int(input('numero:'))\n",
    "\n",
    "tabuada(n)"
   ]
  },
  {
   "cell_type": "code",
   "execution_count": null,
   "id": "5de6ce17",
   "metadata": {},
   "outputs": [],
   "source": [
    "dobro= lambda x:x**2\n",
    "\n",
    "n=int(input('numero:'))\n",
    "print(dobro(n))"
   ]
  }
 ],
 "metadata": {
  "kernelspec": {
   "display_name": "Python 3",
   "language": "python",
   "name": "python3"
  },
  "language_info": {
   "codemirror_mode": {
    "name": "ipython",
    "version": 3
   },
   "file_extension": ".py",
   "mimetype": "text/x-python",
   "name": "python",
   "nbconvert_exporter": "python",
   "pygments_lexer": "ipython3",
   "version": "3.13.2"
  }
 },
 "nbformat": 4,
 "nbformat_minor": 5
}
