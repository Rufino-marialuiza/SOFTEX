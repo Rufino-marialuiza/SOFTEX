{
 "cells": [
  {
   "cell_type": "code",
   "execution_count": null,
   "id": "9244dc6c",
   "metadata": {},
   "outputs": [],
   "source": [
    "#questão1\n",
    "livros=['a branca de neve', 'titanic','a era do gelo']\n",
    "\n",
    "print(livros)"
   ]
  },
  {
   "cell_type": "code",
   "execution_count": null,
   "id": "b0e1457c",
   "metadata": {},
   "outputs": [],
   "source": [
    "#questão2\n",
    "livros=['a branca de neve', 'titanic','a era do gelo']\n",
    "\n",
    "print(livros[0])\n",
    "print(livros[-1])"
   ]
  },
  {
   "cell_type": "code",
   "execution_count": null,
   "id": "af2bd9a0",
   "metadata": {},
   "outputs": [],
   "source": [
    "#questao3\n",
    "livros=['a branca de neve', 'titanic','a era do gelo']\n",
    "\n",
    "novo='o medo'\n",
    "livros.append(novo)\n",
    "\n",
    "novo='a casa monstro'\n",
    "livros.append(novo)\n",
    "\n",
    "print(livros)"
   ]
  },
  {
   "cell_type": "code",
   "execution_count": null,
   "id": "d344b0ba",
   "metadata": {},
   "outputs": [],
   "source": [
    "#questao4\n",
    "livros=['a branca de neve', 'titanic','a era do gelo']\n",
    "\n",
    "livros.insert(1,'Duna')\n",
    "\n",
    "print(livros)"
   ]
  },
  {
   "cell_type": "code",
   "execution_count": null,
   "id": "3449de4e",
   "metadata": {},
   "outputs": [],
   "source": [
    "#questao5\n",
    "livros=['a branca de neve', 'silencio dos inocentes','titanic','a era do gelo']\n",
    "\n",
    "if 'silencio dos inocentes' in livros:\n",
    "        livros.remove('silencio dos inocentes')\n",
    "        print(livros)\n",
    "else:\n",
    "        print('Livro não encontrado')"
   ]
  },
  {
   "cell_type": "code",
   "execution_count": null,
   "id": "45066d9f",
   "metadata": {},
   "outputs": [],
   "source": [
    "#questao6\n",
    "nums=[1,2,3,2,4,2,5]\n",
    "\n",
    "print(nums.count(2))"
   ]
  },
  {
   "cell_type": "code",
   "execution_count": null,
   "id": "8e000278",
   "metadata": {},
   "outputs": [],
   "source": [
    "#questao7\n",
    "livros=['a branca de neve', 'silencio dos inocentes','titanic','a era do gelo']\n",
    "\n",
    "for i in range(len(livros)):\n",
    "  print(f'O livro {livros[i]} é interessante')"
   ]
  },
  {
   "cell_type": "code",
   "execution_count": null,
   "id": "2301680e",
   "metadata": {},
   "outputs": [],
   "source": [
    "#questao8\n",
    "idades=[12, 18, 25, 14, 30]\n",
    "\n",
    "for i in range(len(idades)):\n",
    "  if idades[i]>=18:\n",
    "    print(idades[i])"
   ]
  },
  {
   "cell_type": "code",
   "execution_count": null,
   "id": "35519931",
   "metadata": {},
   "outputs": [],
   "source": [
    "#questao9\n",
    "valores=[10,20,30,40]\n",
    "soma=0\n",
    "\n",
    "for i in range(len(valores)):\n",
    "  soma+=valores[i]\n",
    "\n",
    "print(soma)"
   ]
  },
  {
   "cell_type": "code",
   "execution_count": null,
   "id": "9f6ef585",
   "metadata": {},
   "outputs": [],
   "source": [
    "#questao10\n",
    "alunos=[]\n",
    "for i in range(2):\n",
    "  notas=[]\n",
    "  for i in range(3):\n",
    "    nota=float(input('Nota:'))\n",
    "    notas.append(nota)\n",
    "\n",
    "  alunos.append(notas)\n",
    "\n",
    "media=(sum(alunos[0]))/3\n",
    "print(f'a media do aluno 1 é: {media:.2f}')\n",
    "\n",
    "media=(sum(alunos[1]))/3\n",
    "print(f'a media do aluno 2 é: {media:.2f}')"
   ]
  },
  {
   "cell_type": "code",
   "execution_count": null,
   "id": "a2a96df2",
   "metadata": {},
   "outputs": [],
   "source": [
    "#questao 11\n",
    "xadrex=[]\n",
    "\n",
    "for i in range(8):\n",
    "  linha=[]\n",
    "\n",
    "  if i<1 or i>6 :\n",
    "        linha.append('tor')\n",
    "        linha.append('cav')\n",
    "        linha.append('bis')\n",
    "        linha.append('rai')\n",
    "        linha.append('rei')\n",
    "        linha.append('bis')\n",
    "        linha.append('cav')\n",
    "        linha.append('tor')\n",
    "        xadrex.append(linha)\n",
    "\n",
    "  elif i==1 or i==6:\n",
    "    for k in range(8):\n",
    "        linha.append('pea')\n",
    "    xadrex.append(linha)\n",
    "  else:\n",
    "    for k in range(8):\n",
    "        linha.append('   ')\n",
    "    xadrex.append(linha)\n",
    "\n",
    "for i in range(len(xadrex)):\n",
    "  print(xadrex[i])"
   ]
  }
 ],
 "metadata": {
  "kernelspec": {
   "display_name": ".venv (3.13.2)",
   "language": "python",
   "name": "python3"
  },
  "language_info": {
   "codemirror_mode": {
    "name": "ipython",
    "version": 3
   },
   "file_extension": ".py",
   "mimetype": "text/x-python",
   "name": "python",
   "nbconvert_exporter": "python",
   "pygments_lexer": "ipython3",
   "version": "3.13.2"
  }
 },
 "nbformat": 4,
 "nbformat_minor": 5
}
